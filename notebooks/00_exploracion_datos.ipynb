{
 "cells": [
  {
   "cell_type": "code",
   "execution_count": null,
   "id": "a55b2b9f",
   "metadata": {},
   "outputs": [],
   "source": [
    "import citylearn\n",
    "print(citylearn.__version__)"
   ]
  },
  {
   "cell_type": "markdown",
   "id": "f3f4deef",
   "metadata": {},
   "source": [
    "```python\n",
    "pip install stable-baselines3[extra]\n",
    "```"
   ]
  },
  {
   "cell_type": "markdown",
   "id": "fcbb101c",
   "metadata": {},
   "source": [
    "#### Entorno"
   ]
  },
  {
   "cell_type": "code",
   "execution_count": null,
   "id": "75945fd3",
   "metadata": {},
   "outputs": [],
   "source": [
    "from citylearn import CityLearn\n",
    "\n",
    "env = CityLearn(data_path='citylearn_data/Climate_Zone_1/')\n",
    "state = env.reset()\n",
    "print('Primer estado:', state)"
   ]
  }
 ],
 "metadata": {
  "kernelspec": {
   "display_name": ".venv",
   "language": "python",
   "name": "python3"
  },
  "language_info": {
   "name": "python",
   "version": "3.12.6"
  }
 },
 "nbformat": 4,
 "nbformat_minor": 5
}
