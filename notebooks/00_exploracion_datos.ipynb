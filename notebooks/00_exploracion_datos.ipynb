{
 "cells": [
  {
   "cell_type": "markdown",
   "id": "a4ed8879",
   "metadata": {},
   "source": [
    "# CartPole-v1"
   ]
  },
  {
   "cell_type": "code",
   "execution_count": 7,
   "id": "c426e71d",
   "metadata": {},
   "outputs": [],
   "source": [
    "# 1) Imports\n",
    "import gymnasium as gym"
   ]
  },
  {
   "cell_type": "code",
   "execution_count": 12,
   "id": "d47b644b",
   "metadata": {},
   "outputs": [],
   "source": [
    "# 2) Create the environment\n",
    "#    – render_mode='rgb_array' lets you grab frames (e.g. for plotting later)\n",
    "env = gym.make(\"CartPole-v1\", render_mode=\"rgb_array\")"
   ]
  },
  {
   "cell_type": "code",
   "execution_count": 13,
   "id": "d8cc655e",
   "metadata": {},
   "outputs": [
    {
     "name": "stdout",
     "output_type": "stream",
     "text": [
      "Observation space: Box([-4.8               -inf -0.41887903        -inf], [4.8               inf 0.41887903        inf], (4,), float32)\n",
      "Action space: Discrete(2)\n"
     ]
    }
   ],
   "source": [
    "# 3) Inspect spaces\n",
    "print(\"Observation space:\", env.observation_space)  # Box(4,)\n",
    "print(\"Action space:\", env.action_space)            # Discrete(2)"
   ]
  },
  {
   "cell_type": "code",
   "execution_count": 14,
   "id": "416a35ec",
   "metadata": {},
   "outputs": [
    {
     "name": "stdout",
     "output_type": "stream",
     "text": [
      "Step 00 – obs=[ 0.03  0.19  0.04 -0.26], reward=1.0, done=False\n",
      "Step 01 – obs=[ 0.03 -0.01  0.03  0.04], reward=1.0, done=False\n",
      "Step 02 – obs=[ 0.03 -0.2   0.03  0.34], reward=1.0, done=False\n",
      "Step 03 – obs=[ 0.03 -0.4   0.04  0.65], reward=1.0, done=False\n",
      "Step 04 – obs=[ 0.02 -0.59  0.05  0.95], reward=1.0, done=False\n",
      "Step 05 – obs=[ 0.01 -0.79  0.07  1.26], reward=1.0, done=False\n",
      "Step 06 – obs=[-0.01 -0.6   0.1   0.99], reward=1.0, done=False\n",
      "Step 07 – obs=[-0.02 -0.4   0.12  0.73], reward=1.0, done=False\n",
      "Step 08 – obs=[-0.03 -0.21  0.13  0.48], reward=1.0, done=False\n",
      "Step 09 – obs=[-0.03 -0.41  0.14  0.81], reward=1.0, done=False\n"
     ]
    }
   ],
   "source": [
    "# 4) Reset and take a few random steps\n",
    "obs, info = env.reset(seed=42)\n",
    "for step in range(10):\n",
    "    action = env.action_space.sample()              # random action: 0 or 1\n",
    "    obs, reward, done, truncated, info = env.step(action)\n",
    "    print(f\"Step {step:02d} – obs={obs.round(2)}, reward={reward}, done={done}\")\n",
    "    if done:\n",
    "        obs, info = env.reset()                     # episode restart\n"
   ]
  },
  {
   "cell_type": "code",
   "execution_count": 15,
   "id": "721c68aa",
   "metadata": {},
   "outputs": [],
   "source": [
    "# 5) Close when done\n",
    "env.close()"
   ]
  },
  {
   "cell_type": "code",
   "execution_count": null,
   "id": "0504d559",
   "metadata": {},
   "outputs": [],
   "source": []
  }
 ],
 "metadata": {
  "kernelspec": {
   "display_name": "dqn-env",
   "language": "python",
   "name": "python3"
  },
  "language_info": {
   "codemirror_mode": {
    "name": "ipython",
    "version": 3
   },
   "file_extension": ".py",
   "mimetype": "text/x-python",
   "name": "python",
   "nbconvert_exporter": "python",
   "pygments_lexer": "ipython3",
   "version": "3.10.18"
  }
 },
 "nbformat": 4,
 "nbformat_minor": 5
}
