{
 "cells": [
  {
   "cell_type": "markdown",
   "id": "a4ed8879",
   "metadata": {},
   "source": [
    "# CartPole-v1"
   ]
  },
  {
   "cell_type": "code",
   "execution_count": 26,
   "id": "c426e71d",
   "metadata": {},
   "outputs": [
    {
     "ename": "ModuleNotFoundError",
     "evalue": "No module named 'src'",
     "output_type": "error",
     "traceback": [
      "\u001b[1;31m---------------------------------------------------------------------------\u001b[0m",
      "\u001b[1;31mModuleNotFoundError\u001b[0m                       Traceback (most recent call last)",
      "Cell \u001b[1;32mIn[26], line 2\u001b[0m\n\u001b[0;32m      1\u001b[0m \u001b[38;5;66;03m# 1) Imports\u001b[39;00m\n\u001b[1;32m----> 2\u001b[0m \u001b[38;5;28;01mfrom\u001b[39;00m\u001b[38;5;250m \u001b[39m\u001b[38;5;21;01msrc\u001b[39;00m\u001b[38;5;21;01m.\u001b[39;00m\u001b[38;5;21;01mutils\u001b[39;00m\u001b[38;5;21;01m.\u001b[39;00m\u001b[38;5;21;01mconfig\u001b[39;00m\u001b[38;5;250m \u001b[39m\u001b[38;5;28;01mimport\u001b[39;00m load_configs, make_env, make_agent\n\u001b[0;32m      3\u001b[0m \u001b[38;5;28;01mfrom\u001b[39;00m\u001b[38;5;250m \u001b[39m\u001b[38;5;21;01msrc\u001b[39;00m\u001b[38;5;21;01m.\u001b[39;00m\u001b[38;5;21;01mtrain\u001b[39;00m\u001b[38;5;250m \u001b[39m\u001b[38;5;28;01mimport\u001b[39;00m ExperimentRunner, ExperimentResult\n\u001b[0;32m      4\u001b[0m \u001b[38;5;28;01mimport\u001b[39;00m\u001b[38;5;250m \u001b[39m\u001b[38;5;21;01mmatplotlib\u001b[39;00m\u001b[38;5;21;01m.\u001b[39;00m\u001b[38;5;21;01mpyplot\u001b[39;00m\u001b[38;5;250m \u001b[39m\u001b[38;5;28;01mas\u001b[39;00m\u001b[38;5;250m \u001b[39m\u001b[38;5;21;01mplt\u001b[39;00m\n",
      "\u001b[1;31mModuleNotFoundError\u001b[0m: No module named 'src'"
     ]
    }
   ],
   "source": [
    "# 1) Imports\n",
    "from src.utils.config import load_configs, make_env, make_agent\n",
    "from src.train import ExperimentRunner, ExperimentResult\n",
    "import matplotlib.pyplot as plt\n",
    "from pathlib import Path\n",
    "import gymnasium as gym\n",
    "import numpy as np\n",
    "import torch"
   ]
  },
  {
   "cell_type": "code",
   "execution_count": null,
   "id": "7ec87c4a",
   "metadata": {},
   "outputs": [],
   "source": [
    "import sys\n",
    "from pathlib import Path\n",
    "\n",
    "# Añade la ruta del proyecto (ajusta si tu notebook está en otra carpeta)\n",
    "sys.path.append(str(Path().resolve().parent / \"src\"))"
   ]
  },
  {
   "cell_type": "code",
   "execution_count": 27,
   "id": "d47b644b",
   "metadata": {},
   "outputs": [],
   "source": [
    "# 2) Create the environment\n",
    "#    – render_mode='rgb_array' lets you grab frames (e.g. for plotting later)\n",
    "env = gym.make(\"CartPole-v1\", render_mode=\"rgb_array\")"
   ]
  },
  {
   "cell_type": "markdown",
   "id": "b1f2b791",
   "metadata": {},
   "source": [
    "#### Action and State Space"
   ]
  },
  {
   "cell_type": "code",
   "execution_count": 19,
   "id": "d8cc655e",
   "metadata": {},
   "outputs": [
    {
     "name": "stdout",
     "output_type": "stream",
     "text": [
      "Observation space: Box([-4.8               -inf -0.41887903        -inf], [4.8               inf 0.41887903        inf], (4,), float32)\n",
      "Action space: Discrete(2)\n",
      "Space shape:  (4,)\n",
      "Action shape:  Discrete(2)\n"
     ]
    }
   ],
   "source": [
    "# 3) Inspect spaces\n",
    "print(\"Observation space:\", env.observation_space)  # Box(4,)\n",
    "print(\"Action space:\", env.action_space)            # Discrete(2)\n",
    "\n",
    "print('Space shape: ', env.observation_space.shape)\n",
    "print('Action shape: ', env.action_space)\n"
   ]
  },
  {
   "cell_type": "markdown",
   "id": "d0a980aa",
   "metadata": {},
   "source": [
    "#### Running an Episode of CartPole-V1"
   ]
  },
  {
   "cell_type": "code",
   "execution_count": 20,
   "id": "416a35ec",
   "metadata": {},
   "outputs": [
    {
     "name": "stdout",
     "output_type": "stream",
     "text": [
      "(400, 600, 3)\n",
      "Step 00 – obs=[ 0.03 -0.2   0.04  0.32], reward=1.0, done=False\n",
      "(400, 600, 3)\n",
      "Step 01 – obs=[ 0.02 -0.4   0.04  0.63], reward=1.0, done=False\n",
      "(400, 600, 3)\n",
      "Step 02 – obs=[ 0.02 -0.59  0.06  0.93], reward=1.0, done=False\n",
      "(400, 600, 3)\n",
      "Step 03 – obs=[ 0.   -0.4   0.07  0.66], reward=1.0, done=False\n",
      "(400, 600, 3)\n",
      "Step 04 – obs=[-0.   -0.59  0.09  0.97], reward=1.0, done=False\n",
      "(400, 600, 3)\n",
      "Step 05 – obs=[-0.02 -0.79  0.11  1.29], reward=1.0, done=False\n",
      "(400, 600, 3)\n",
      "Step 06 – obs=[-0.03 -0.6   0.13  1.03], reward=1.0, done=False\n",
      "(400, 600, 3)\n",
      "Step 07 – obs=[-0.04 -0.79  0.15  1.37], reward=1.0, done=False\n",
      "(400, 600, 3)\n",
      "Step 08 – obs=[-0.06 -0.6   0.18  1.12], reward=1.0, done=False\n",
      "(400, 600, 3)\n",
      "Step 09 – obs=[-0.07 -0.41  0.2   0.89], reward=1.0, done=False\n"
     ]
    }
   ],
   "source": [
    "# 4) Reset and take a few random steps\n",
    "obs, info = env.reset(seed=42)\n",
    "frames = []\n",
    "for step in range(10):\n",
    "    action = env.action_space.sample()              # random action: 0 or 1\n",
    "    obs, reward, done, truncated, info = env.step(action)\n",
    "    frame  = env.render()\n",
    "    print(frame.shape)\n",
    "    frames.append(env.render())\n",
    "    print(f\"Step {step:02d} – obs={obs.round(2)}, reward={reward}, done={done}\")\n",
    "    if done:\n",
    "        obs, info = env.reset() "
   ]
  },
  {
   "cell_type": "code",
   "execution_count": 21,
   "id": "721c68aa",
   "metadata": {},
   "outputs": [],
   "source": [
    "# 5) Close when done\n",
    "env.close()"
   ]
  },
  {
   "cell_type": "code",
   "execution_count": 22,
   "id": "8557c265",
   "metadata": {},
   "outputs": [],
   "source": [
    "frames_np = np.stack(frames)  # Shape: (num_frames, alto, ancho, 3)\n",
    "frames_tensor = torch.from_numpy(frames_np)  # Tensor de shape igual\n",
    "\n",
    "# Si quieres que el canal de color sea la segunda dimensión (formato PyTorch: N, C, H, W):\n",
    "frames_tensor = frames_tensor.permute(0, 3, 1, 2)  # (num_frames, 3, alto, ancho)\n",
    "    \n",
    "    \n"
   ]
  },
  {
   "cell_type": "code",
   "execution_count": 25,
   "id": "2c50eec3",
   "metadata": {},
   "outputs": [
    {
     "ename": "NameError",
     "evalue": "name 'Path' is not defined",
     "output_type": "error",
     "traceback": [
      "\u001b[1;31m---------------------------------------------------------------------------\u001b[0m",
      "\u001b[1;31mNameError\u001b[0m                                 Traceback (most recent call last)",
      "Cell \u001b[1;32mIn[25], line 1\u001b[0m\n\u001b[1;32m----> 1\u001b[0m config_dir \u001b[38;5;241m=\u001b[39m \u001b[43mPath\u001b[49m(\u001b[38;5;124m\"\u001b[39m\u001b[38;5;124mconfigs/\u001b[39m\u001b[38;5;124m\"\u001b[39m)\n\u001b[0;32m      2\u001b[0m cfg \u001b[38;5;241m=\u001b[39m load_configs(config_dir)\n\u001b[0;32m      3\u001b[0m runner \u001b[38;5;241m=\u001b[39m ExperimentRunner(cfg)\n",
      "\u001b[1;31mNameError\u001b[0m: name 'Path' is not defined"
     ]
    }
   ],
   "source": [
    "config_dir = Path(\"configs/\")\n",
    "cfg = load_configs(config_dir)\n",
    "runner = ExperimentRunner(cfg)\n",
    "all_results = runner.run()"
   ]
  },
  {
   "cell_type": "code",
   "execution_count": null,
   "id": "48d772b3",
   "metadata": {},
   "outputs": [],
   "source": []
  }
 ],
 "metadata": {
  "kernelspec": {
   "display_name": "dqn-env",
   "language": "python",
   "name": "python3"
  },
  "language_info": {
   "codemirror_mode": {
    "name": "ipython",
    "version": 3
   },
   "file_extension": ".py",
   "mimetype": "text/x-python",
   "name": "python",
   "nbconvert_exporter": "python",
   "pygments_lexer": "ipython3",
   "version": "3.10.18"
  }
 },
 "nbformat": 4,
 "nbformat_minor": 5
}
