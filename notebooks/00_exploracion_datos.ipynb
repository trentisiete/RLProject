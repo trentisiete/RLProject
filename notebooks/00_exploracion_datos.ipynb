{
 "cells": [
  {
   "cell_type": "markdown",
   "id": "a4ed8879",
   "metadata": {},
   "source": [
    "# CartPole-v1"
   ]
  },
  {
   "cell_type": "code",
   "execution_count": 1,
   "id": "c426e71d",
   "metadata": {},
   "outputs": [],
   "source": [
    "# 1) Imports\n",
    "import gymnasium as gym\n",
    "import matplotlib.pyplot as plt"
   ]
  },
  {
   "cell_type": "code",
   "execution_count": 2,
   "id": "d47b644b",
   "metadata": {},
   "outputs": [],
   "source": [
    "# 2) Create the environment\n",
    "#    – render_mode='rgb_array' lets you grab frames (e.g. for plotting later)\n",
    "env = gym.make(\"CartPole-v1\", render_mode=\"rgb_array\")"
   ]
  },
  {
   "cell_type": "code",
   "execution_count": null,
   "id": "d8cc655e",
   "metadata": {},
   "outputs": [
    {
     "name": "stdout",
     "output_type": "stream",
     "text": [
      "Observation space: Box([-4.8               -inf -0.41887903        -inf], [4.8               inf 0.41887903        inf], (4,), float32)\n",
      "Action space: Discrete(2)\n",
      "4\n",
      "Discrete(2)\n",
      "2\n"
     ]
    },
    {
     "data": {
      "text/plain": [
       "1"
      ]
     },
     "execution_count": 13,
     "metadata": {},
     "output_type": "execute_result"
    }
   ],
   "source": [
    "# 3) Inspect spaces\n",
    "print(\"Observation space:\", env.observation_space)  # Box(4,)\n",
    "print(\"Action space:\", env.action_space)            # Discrete(2)\n",
    "\n",
    "\n",
    "space = env.observation_space.shape\n",
    "action = env.action_space\n",
    "print(space[0])\n",
    "print(action)\n",
    "\n",
    "l = action\n",
    "print(l.n)\n",
    "\n",
    "action"
   ]
  },
  {
   "cell_type": "code",
   "execution_count": 10,
   "id": "f993d846",
   "metadata": {},
   "outputs": [
    {
     "name": "stdout",
     "output_type": "stream",
     "text": [
      "0.5582578445538783\n"
     ]
    }
   ],
   "source": [
    "import random\n",
    "\n",
    "print(random.random())\n"
   ]
  },
  {
   "cell_type": "code",
   "execution_count": 4,
   "id": "416a35ec",
   "metadata": {},
   "outputs": [
    {
     "name": "stderr",
     "output_type": "stream",
     "text": [
      "c:\\Users\\maria\\miniconda3\\envs\\dqn-env\\lib\\site-packages\\pygame\\pkgdata.py:25: UserWarning: pkg_resources is deprecated as an API. See https://setuptools.pypa.io/en/latest/pkg_resources.html. The pkg_resources package is slated for removal as early as 2025-11-30. Refrain from using this package or pin to Setuptools<81.\n",
      "  from pkg_resources import resource_stream, resource_exists\n"
     ]
    },
    {
     "name": "stdout",
     "output_type": "stream",
     "text": [
      "(400, 600, 3)\n",
      "Step 00 – obs=[ 0.03  0.19  0.04 -0.26], reward=1.0, done=False\n",
      "(400, 600, 3)\n",
      "Step 01 – obs=[ 0.03  0.38  0.03 -0.54], reward=1.0, done=False\n",
      "(400, 600, 3)\n",
      "Step 02 – obs=[ 0.04  0.58  0.02 -0.83], reward=1.0, done=False\n",
      "(400, 600, 3)\n",
      "Step 03 – obs=[ 0.05  0.77  0.   -1.11], reward=1.0, done=False\n",
      "(400, 600, 3)\n",
      "Step 04 – obs=[ 0.07  0.97 -0.02 -1.4 ], reward=1.0, done=False\n",
      "(400, 600, 3)\n",
      "Step 05 – obs=[ 0.09  0.77 -0.05 -1.12], reward=1.0, done=False\n",
      "(400, 600, 3)\n",
      "Step 06 – obs=[ 0.1   0.97 -0.07 -1.42], reward=1.0, done=False\n",
      "(400, 600, 3)\n",
      "Step 07 – obs=[ 0.12  0.77 -0.1  -1.15], reward=1.0, done=False\n",
      "(400, 600, 3)\n",
      "Step 08 – obs=[ 0.14  0.97 -0.12 -1.47], reward=1.0, done=False\n",
      "(400, 600, 3)\n",
      "Step 09 – obs=[ 0.15  1.17 -0.15 -1.8 ], reward=1.0, done=False\n"
     ]
    },
    {
     "ename": "NameError",
     "evalue": "name 'np' is not defined",
     "output_type": "error",
     "traceback": [
      "\u001b[1;31m---------------------------------------------------------------------------\u001b[0m",
      "\u001b[1;31mNameError\u001b[0m                                 Traceback (most recent call last)",
      "Cell \u001b[1;32mIn[4], line 14\u001b[0m\n\u001b[0;32m     11\u001b[0m     \u001b[38;5;28;01mif\u001b[39;00m done:\n\u001b[0;32m     12\u001b[0m         obs, info \u001b[38;5;241m=\u001b[39m env\u001b[38;5;241m.\u001b[39mreset() \n\u001b[1;32m---> 14\u001b[0m frames_np \u001b[38;5;241m=\u001b[39m \u001b[43mnp\u001b[49m\u001b[38;5;241m.\u001b[39mstack(frames)  \u001b[38;5;66;03m# Shape: (num_frames, alto, ancho, 3)\u001b[39;00m\n\u001b[0;32m     15\u001b[0m frames_tensor \u001b[38;5;241m=\u001b[39m torch\u001b[38;5;241m.\u001b[39mfrom_numpy(frames_np)  \u001b[38;5;66;03m# Tensor de shape igual\u001b[39;00m\n\u001b[0;32m     17\u001b[0m \u001b[38;5;66;03m# Si quieres que el canal de color sea la segunda dimensión (formato PyTorch: N, C, H, W):\u001b[39;00m\n",
      "\u001b[1;31mNameError\u001b[0m: name 'np' is not defined"
     ]
    }
   ],
   "source": [
    "# 4) Reset and take a few random steps\n",
    "obs, info = env.reset(seed=42)\n",
    "frames = []\n",
    "for step in range(10):\n",
    "    action = env.action_space.sample()              # random action: 0 or 1\n",
    "    obs, reward, done, truncated, info = env.step(action)\n",
    "    frame  = env.render()\n",
    "    print(frame.shape)\n",
    "    frames.append(env.render())\n",
    "    print(f\"Step {step:02d} – obs={obs.round(2)}, reward={reward}, done={done}\")\n",
    "    if done:\n",
    "        obs, info = env.reset() \n",
    "\n",
    "frames_np = np.stack(frames)  # Shape: (num_frames, alto, ancho, 3)\n",
    "frames_tensor = torch.from_numpy(frames_np)  # Tensor de shape igual\n",
    "\n",
    "# Si quieres que el canal de color sea la segunda dimensión (formato PyTorch: N, C, H, W):\n",
    "frames_tensor = frames_tensor.permute(0, 3, 1, 2)  # (num_frames, 3, alto, ancho)\n",
    "    \n",
    "    \n"
   ]
  },
  {
   "cell_type": "code",
   "execution_count": null,
   "id": "721c68aa",
   "metadata": {},
   "outputs": [],
   "source": [
    "# 5) Close when done\n",
    "env.close()"
   ]
  },
  {
   "cell_type": "code",
   "execution_count": null,
   "id": "63a6c4cc",
   "metadata": {},
   "outputs": [],
   "source": []
  }
 ],
 "metadata": {
  "kernelspec": {
   "display_name": "dqn-env",
   "language": "python",
   "name": "python3"
  },
  "language_info": {
   "codemirror_mode": {
    "name": "ipython",
    "version": 3
   },
   "file_extension": ".py",
   "mimetype": "text/x-python",
   "name": "python",
   "nbconvert_exporter": "python",
   "pygments_lexer": "ipython3",
   "version": "3.10.18"
  }
 },
 "nbformat": 4,
 "nbformat_minor": 5
}
